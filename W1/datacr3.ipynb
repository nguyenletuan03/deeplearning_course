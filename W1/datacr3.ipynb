{
 "cells": [
  {
   "cell_type": "code",
   "execution_count": 2,
   "metadata": {},
   "outputs": [],
   "source": [
    "from selenium import webdriver\n",
    "from selenium.webdriver.common.by import By\n",
    "from selenium.webdriver.common.keys import Keys\n",
    "from time import sleep"
   ]
  },
  {
   "cell_type": "code",
   "execution_count": 3,
   "metadata": {},
   "outputs": [],
   "source": [
    "driver=webdriver.Edge()\n",
    "url='https://s.cafef.vn/du-lieu.chn'\n",
    "driver.get(url)"
   ]
  },
  {
   "cell_type": "code",
   "execution_count": 4,
   "metadata": {},
   "outputs": [],
   "source": [
    "btn_lichsu=driver.find_element(By.XPATH,'//*[@id=\"pagewrap\"]/div[1]/div[1]/div[2]/a[3]')\n",
    "btn_lichsu.click()"
   ]
  },
  {
   "cell_type": "code",
   "execution_count": 19,
   "metadata": {},
   "outputs": [],
   "source": [
    "input_research = driver.find_element(By.ID,'ContentPlaceHolder1_ctl00_acp_inp_disclosure')\n",
    "input_research.send_keys('techcombank')"
   ]
  },
  {
   "cell_type": "code",
   "execution_count": 20,
   "metadata": {},
   "outputs": [],
   "source": [
    "input_research.send_keys(Keys.RETURN)"
   ]
  },
  {
   "cell_type": "code",
   "execution_count": 21,
   "metadata": {},
   "outputs": [],
   "source": [
    "input_time=driver.find_element(By.ID, \"date-inp-disclosure\")\n",
    "input_time.send_keys(\"01/01/2023-31/12/2023\")"
   ]
  },
  {
   "cell_type": "code",
   "execution_count": 22,
   "metadata": {},
   "outputs": [],
   "source": [
    "btn_xem=driver.find_element(By.ID,'owner-find')\n",
    "btn_xem.click()"
   ]
  },
  {
   "cell_type": "code",
   "execution_count": 25,
   "metadata": {},
   "outputs": [
    {
     "name": "stdout",
     "output_type": "stream",
     "text": [
      "Ngày Giá (nghìn VNĐ) Thay đổi GD khớp lệnh GD thỏa thuận Giá (nghìn VNĐ)\n",
      "Đóng cửa Điều chỉnh Khối lượng Giá trị (tỷ VNĐ) Khối lượng Giá trị (tỷ VNĐ) Mở cửa Cao nhất Thấp nhất\n",
      "05/07/2024 23.5 -- 0(0.00 %) 8,377,700 195.7 0 0 23.35 23.5 23.2\n",
      "04/07/2024 23.5 -- 0(0.00 %) 5,683,100 133.16 0 0 23.5 23.55 23.3\n",
      "03/07/2024 23.5 -- 0.6(2.62 %) 10,183,800 237.34 0 0 22.95 23.55 22.9\n",
      "02/07/2024 22.9 -- 0.25(1.10 %) 9,248,300 212.21 0 0 22.85 23.2 22.65\n",
      "01/07/2024 22.65 -- -0.7(-3.00 %) 9,012,800 205.55 500,000 11.38 23.1 23.1 22.65\n",
      "28/06/2024 23.35 -- -0.1(-0.43 %) 21,090,100 484.18 6,454,400 152.93 23.45 23.5 22.5\n",
      "27/06/2024 23.45 -- -0.55(-2.29 %) 12,338,200 289.62 20,000,000 480 23.65 23.7 23.35\n",
      "26/06/2024 24 -- 0(0.00 %) 7,388,500 176.2 50,800,000 1,211.08 23.95 24 23.55\n",
      "25/06/2024 24 -- 0.05(0.21 %) 12,070,000 285.57 25,000 0.6 23.95 24 23.4\n",
      "24/06/2024 23.95 -- -0.55(-2.24 %) 14,021,100 336.65 613,000 15.61 24.5 24.5 23.6\n",
      "21/06/2024 24.5 -- -0.3(-1.21 %) 11,686,300 286.01 0 0 24.95 24.95 24.2\n",
      "20/06/2024 24.8 -- 0.65(2.69 %) 34,583,800 858.86 2,000,000 45 24.55 25.15 24.5\n",
      "19/06/2024 48.3 24.15 -0.5(-1.02 %) 17,027,300 824.49 11,249,000 518.35 49 49 48.15\n",
      "18/06/2024 48.8 24.4 0.2(0.41 %) 10,243,100 498.67 34,144,200 1,582.61 48.6 49.1 48.2\n",
      "17/06/2024 48.6 24.3 -0.5(-1.02 %) 9,687,200 471.41 2,759,000 143.83 49.05 49.05 48.5\n",
      "14/06/2024 49.1 24.55 -0.3(-0.61 %) 9,835,600 485.34 0 0 49.5 49.55 49.1\n",
      "13/06/2024 49.4 24.7 0(0.00 %) 8,424,900 416.34 100,000 5 49.5 49.6 49.3\n",
      "12/06/2024 49.4 24.7 0.05(0.10 %) 9,157,900 450.73 4,665,060 221.99 49.35 49.5 49\n",
      "11/06/2024 49.35 24.68 0.45(0.92 %) 16,586,900 820.02 100,000 5 49.5 49.85 49.15\n",
      "10/06/2024 48.9 24.45 -0.2(-0.41 %) 8,633,400 422.12 2,520,000 123.67 49.5 49.5 48.35\n",
      "07/06/2024 49.1 24.55 1.1(2.29 %) 15,463,100 758.51 3,380,600 163.3 49 49.7 48.7\n"
     ]
    }
   ],
   "source": [
    "tbl_data=driver.find_element(By.ID, 'owner-contents-table')\n",
    "all_row=tbl_data.find_elements(By.TAG_NAME,'tr')\n",
    "for row in all_row:\n",
    "    print(row.text)\n",
    "    sleep(0.5)"
   ]
  },
  {
   "cell_type": "code",
   "execution_count": 32,
   "metadata": {},
   "outputs": [],
   "source": [
    "btn_next=driver.find_element(By.XPATH,'//*[@id=\"divStart\"]/div/div[3]/div[3]')\n",
    "btn_next.click()"
   ]
  }
 ],
 "metadata": {
  "kernelspec": {
   "display_name": "Python 3",
   "language": "python",
   "name": "python3"
  },
  "language_info": {
   "codemirror_mode": {
    "name": "ipython",
    "version": 3
   },
   "file_extension": ".py",
   "mimetype": "text/x-python",
   "name": "python",
   "nbconvert_exporter": "python",
   "pygments_lexer": "ipython3",
   "version": "3.11.0"
  }
 },
 "nbformat": 4,
 "nbformat_minor": 2
}
