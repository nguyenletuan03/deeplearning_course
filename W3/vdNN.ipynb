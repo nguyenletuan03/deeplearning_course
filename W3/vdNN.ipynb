{
 "cells": [
  {
   "cell_type": "code",
   "execution_count": 97,
   "metadata": {},
   "outputs": [],
   "source": [
    "import numpy as np\n",
    "from sklearn.preprocessing import StandardScaler\n",
    "from sklearn.metrics import accuracy_score, precision_score, recall_score, confusion_matrix, f1_score, classification_report\n",
    "import tensorflow as tf\n",
    "import matplotlib.pyplot as plt\n",
    "import keras\n",
    "from keras.api.models import Sequential\n",
    "from keras.api.layers import Dense"
   ]
  },
  {
   "cell_type": "code",
   "execution_count": 98,
   "metadata": {},
   "outputs": [],
   "source": [
    "class SimpleNeuralNetwork:\n",
    "    def __init__(self, input_size, hidden_size, output_size):\n",
    "        self.weights_hidden_input = np.random.rand(input_size, hidden_size)\n",
    "        self.weights_hidden_out = np.random.rand(hidden_size, output_size)\n",
    "        self.bias_hidden = np.zeros((1, hidden_size))\n",
    "        self.bias_output = np.zeros((1, output_size))\n",
    "\n",
    "    @staticmethod\n",
    "    def sigmoid(x):\n",
    "        return 1 / (1 + np.exp(-x))\n",
    "\n",
    "    @staticmethod\n",
    "    def sigmoid_derivative(x):\n",
    "        return x * (1 - x)\n",
    "\n",
    "    def forward(self, X):\n",
    "        self.hidden_layer_values = np.dot(X, self.weights_hidden_input) +self.bias_hidden\n",
    "        self.hidden_layer_output = self.sigmoid(self.hidden_layer_values)\n",
    "        self.output_layer_values = np.dot(self.hidden_layer_output,self.weights_hidden_out) + self.bias_output\n",
    "        self.output_layer_out = self.sigmoid(self.output_layer_values)\n",
    "        return self.output_layer_out\n",
    "        \n",
    "    def backward(self, X, y, predicted):\n",
    "        dS_out = predicted - y\n",
    "        dW_out = np.dot(self.hidden_layer_output.T, dS_out)\n",
    "        db_out = np.sum(dS_out, axis=0, keepdims=True)\n",
    "        dS_hidden = np.dot(dS_out, self.weights_hidden_out.T) * self.sigmoid_derivative(self.hidden_layer_output)\n",
    "        dW_hidden = np.dot(X.T, dS_hidden)\n",
    "        db_hidden = np.sum(dS_hidden, axis=0, keepdims=True)\n",
    "        return dW_hidden, dW_out, db_hidden, db_out\n",
    "    def update(self, dW_hidden, dW_out, db_hidden, db_out):\n",
    "        self.weights_hidden_input -= learning_rate * dW_hidden\n",
    "        self.weights_hidden_out -= learning_rate * dW_out\n",
    "        self.bias_hidden -= learning_rate * db_hidden\n",
    "        self.bias_output -= learning_rate * db_out\n",
    "    def predict(self, X):\n",
    "        return self.forward(X)"
   ]
  },
  {
   "cell_type": "code",
   "execution_count": 118,
   "metadata": {},
   "outputs": [],
   "source": [
    "#%% Data preprocessing\n",
    "# Input dataset (Weight, Size)\n",
    "inputs = np.array([[120, 10], [180, 12], [90, 8], [110, 7.5], [150, 11], [170,13], [95, 9], [130, 10.5], [200, 14], [100, 8]])\n",
    "# Labels (one-hot encoded): Eggplant = 1, Carrot = 0\n",
    "outputs = np.array([[1], [1], [0], [0], [1], [1], [0], [1], [1], [0]])\n",
    "#%% Normalize the inputs\n",
    "scaler = StandardScaler()\n",
    "# inputs_scaled = scaler.fit_transform(inputs)\n",
    "inputs_scaled = inputs/np.max(inputs,axis=0)\n",
    "#%% Convert data to TensorFlow tensors\n",
    "# inputs_scaled = tf.convert_to_tensor(inputs_scaled, dtype=tf.float32)\n",
    "# outputs = tf.convert_to_tensor(outputs, dtype=tf.float32)"
   ]
  },
  {
   "cell_type": "code",
   "execution_count": 119,
   "metadata": {},
   "outputs": [],
   "source": [
    "# epochs=1000\n",
    "learning_rate=0.1"
   ]
  },
  {
   "cell_type": "code",
   "execution_count": 120,
   "metadata": {},
   "outputs": [],
   "source": [
    "input_size=12\n",
    "hidden_size=8\n",
    "output_size=1"
   ]
  },
  {
   "cell_type": "code",
   "execution_count": 121,
   "metadata": {},
   "outputs": [],
   "source": [
    "model=SimpleNeuralNetwork(inputs_scaled.shape[1],2,outputs.shape[1])"
   ]
  },
  {
   "cell_type": "code",
   "execution_count": 122,
   "metadata": {},
   "outputs": [
    {
     "name": "stdout",
     "output_type": "stream",
     "text": [
      "epoch 0, Cost: 0.6654262039110226\n",
      "epoch 100, Cost: 0.5791916271759553\n",
      "epoch 200, Cost: 0.3255931712986427\n",
      "epoch 300, Cost: 0.17503597293813564\n",
      "epoch 400, Cost: 0.1095612279262896\n",
      "epoch 500, Cost: 0.07578154548225653\n",
      "epoch 600, Cost: 0.056139148799264106\n",
      "epoch 700, Cost: 0.043690952190292565\n",
      "epoch 800, Cost: 0.03527287851072845\n",
      "epoch 900, Cost: 0.029286803103836922\n",
      "epoch 1000, Cost: 0.024857602223629656\n",
      "epoch 1100, Cost: 0.021473745275250606\n",
      "epoch 1200, Cost: 0.018819782624881074\n",
      "epoch 1300, Cost: 0.016692325408312815\n",
      "epoch 1400, Cost: 0.014955228271498783\n",
      "epoch 1500, Cost: 0.013514403056530344\n",
      "epoch 1600, Cost: 0.012303018093132816\n",
      "No significant change in cost for 10 epochs. Stopping early at epoch 1678.\n"
     ]
    }
   ],
   "source": [
    "cost_history = []\n",
    "epoch = 0\n",
    "max_epochs = 10000  # SỐ lượng lần lặp max\n",
    "no_change_limit = 10  # Số lần cost không đổi\n",
    "tolerance = 0.00001 # giá trị cost để so sánh\n",
    "\n",
    "no_change_count = 0 \n",
    "\n",
    "while epoch < max_epochs:\n",
    "    predicted = model.forward(inputs_scaled)\n",
    "\n",
    "    cost = -np.mean(np.sum(outputs * np.log(predicted) + (1 - outputs) * np.log(1 - predicted), axis=1))\n",
    "    cost_history.append(cost)\n",
    "    \n",
    "    if epoch > 0:\n",
    "        if abs(cost_history[-2] - cost) < tolerance:\n",
    "            no_change_count += 1\n",
    "        else:\n",
    "            no_change_count = 0\n",
    "\n",
    "        if no_change_count >= no_change_limit:\n",
    "            print(f'No significant change in cost for {no_change_limit} epochs. Stopping early at epoch {epoch}.')\n",
    "            break\n",
    "\n",
    "    dW1, dW2, db1, db2 = model.backward(inputs_scaled, outputs, predicted)\n",
    "    model.update(dW1, dW2, db1, db2)\n",
    "    \n",
    "    if epoch % 100 == 0:\n",
    "        print(f'epoch {epoch}, Cost: {cost}')\n",
    "\n",
    "    epoch += 1\n",
    "\n",
    "# In case the loop ends due to reaching max_epochs\n",
    "if epoch == max_epochs:\n",
    "    print(f'Stopped at maximum epochs {max_epochs}, Cost: {cost}')"
   ]
  },
  {
   "cell_type": "code",
   "execution_count": 123,
   "metadata": {},
   "outputs": [
    {
     "name": "stdout",
     "output_type": "stream",
     "text": [
      "predict outputs after training: \n",
      "[[0.95386337]\n",
      " [0.99996997]\n",
      " [0.00319675]\n",
      " [0.01541165]\n",
      " [0.99977353]\n",
      " [0.99997237]\n",
      " [0.03377461]\n",
      " [0.9961405 ]\n",
      " [0.99998306]\n",
      " [0.01030856]]\n"
     ]
    }
   ],
   "source": [
    "print('predict outputs after training: ')\n",
    "predicted_output=model.predict(inputs_scaled)\n",
    "print(predicted_output)"
   ]
  },
  {
   "cell_type": "code",
   "execution_count": 124,
   "metadata": {},
   "outputs": [
    {
     "data": {
      "image/png": "[encoded data removed]",
      "text/plain": [
       "<Figure size 640x480 with 1 Axes>"
      ]
     },
     "metadata": {},
     "output_type": "display_data"
    }
   ],
   "source": [
    "plt.plot(cost_history, lw=3, color=\"darkorange\")\n",
    "plt.xlabel('Epochs')\n",
    "plt.ylabel('Cost')\n",
    "plt.title('Cost over Epochs')\n",
    "plt.show()"
   ]
  },
  {
   "cell_type": "code",
   "execution_count": 125,
   "metadata": {},
   "outputs": [],
   "source": [
    "predicted_probs=predicted_output.reshape(-1)\n",
    "real_values=outputs.reshape(-1)\n",
    "predicted_labels=(predicted_probs>=0.8).astype(int)"
   ]
  },
  {
   "cell_type": "code",
   "execution_count": 126,
   "metadata": {},
   "outputs": [
    {
     "name": "stdout",
     "output_type": "stream",
     "text": [
      "1.0 1.0 1.0 1.0\n"
     ]
    }
   ],
   "source": [
    "accuracy = accuracy_score(real_values, predicted_labels)\n",
    "precision = precision_score(real_values, predicted_labels)\n",
    "recall = recall_score(real_values, predicted_labels)\n",
    "f1 = f1_score(real_values, predicted_labels)\n",
    "print(accuracy,precision, recall,f1)"
   ]
  }
 ],
 "metadata": {
  "kernelspec": {
   "display_name": "Python 3",
   "language": "python",
   "name": "python3"
  },
  "language_info": {
   "codemirror_mode": {
    "name": "ipython",
    "version": 3
   },
   "file_extension": ".py",
   "mimetype": "text/x-python",
   "name": "python",
   "nbconvert_exporter": "python",
   "pygments_lexer": "ipython3",
   "version": "3.11.0"
  }
 },
 "nbformat": 4,
 "nbformat_minor": 2
}
