{
 "cells": [
  {
   "cell_type": "code",
   "execution_count": 2,
   "metadata": {},
   "outputs": [],
   "source": [
    "import pandas as pd \n",
    "from sklearn.preprocessing import OneHotEncoder\n",
    "from sklearn.feature_extraction.text import CountVectorizer, TfidfVectorizer\n",
    "from gensim.models import Word2Vec"
   ]
  },
  {
   "cell_type": "code",
   "execution_count": 3,
   "metadata": {},
   "outputs": [
    {
     "name": "stdout",
     "output_type": "stream",
     "text": [
      "  (0, 0)\t1.0\n",
      "  (1, 1)\t1.0\n",
      "  (2, 2)\t1.0\n",
      "  (3, 3)\t1.0\n"
     ]
    }
   ],
   "source": [
    "onehot_encoder=OneHotEncoder()\n",
    "encoded=onehot_encoder.fit_transform([['Apple'], ['Banana'], ['Coconut'], ['Durian']])\n",
    "print(encoded)"
   ]
  },
  {
   "cell_type": "code",
   "execution_count": 4,
   "metadata": {},
   "outputs": [],
   "source": [
    "sentence= [\n",
    "    'I love machine learning learning',\n",
    "    'Deep learning is amazing',\n",
    "    'Natural language processing is a field of AI'\n",
    "]"
   ]
  },
  {
   "cell_type": "code",
   "execution_count": 5,
   "metadata": {},
   "outputs": [],
   "source": [
    "vectorizer= CountVectorizer()\n",
    "X= vectorizer.fit_transform(sentence)"
   ]
  },
  {
   "cell_type": "code",
   "execution_count": 6,
   "metadata": {},
   "outputs": [
    {
     "name": "stdout",
     "output_type": "stream",
     "text": [
      "Vocabulary:  {'love': 7, 'machine': 8, 'learning': 6, 'deep': 2, 'is': 4, 'amazing': 1, 'natural': 9, 'language': 5, 'processing': 11, 'field': 3, 'of': 10, 'ai': 0}\n"
     ]
    }
   ],
   "source": [
    "print('Vocabulary: ', vectorizer.vocabulary_)"
   ]
  },
  {
   "cell_type": "code",
   "execution_count": 7,
   "metadata": {},
   "outputs": [
    {
     "name": "stdout",
     "output_type": "stream",
     "text": [
      "Bag-of-words Representation:\n",
      " [[0 0 0 0 0 0 2 1 1 0 0 0]\n",
      " [0 1 1 0 1 0 1 0 0 0 0 0]\n",
      " [1 0 0 1 1 1 0 0 0 1 1 1]]\n"
     ]
    }
   ],
   "source": [
    "print('Bag-of-words Representation:\\n', X.toarray())"
   ]
  },
  {
   "cell_type": "code",
   "execution_count": 9,
   "metadata": {},
   "outputs": [],
   "source": [
    "df= pd.DataFrame(X.toarray(), columns=vectorizer.get_feature_names_out())"
   ]
  },
  {
   "cell_type": "code",
   "execution_count": 10,
   "metadata": {},
   "outputs": [
    {
     "name": "stdout",
     "output_type": "stream",
     "text": [
      "Vocabulary: {'love': 7, 'machine': 8, 'learning': 6, 'deep': 2, 'is': 4, 'amazing': 1, 'natural': 9, 'language': 5, 'processing': 11, 'field': 3, 'of': 10, 'ai': 0}\n",
      "TF-IDF Representation:\n",
      " [[0.         0.         0.         0.         0.         0.\n",
      "  0.4736296  0.62276601 0.62276601 0.         0.         0.        ]\n",
      " [0.         0.5628291  0.5628291  0.         0.42804604 0.\n",
      "  0.42804604 0.         0.         0.         0.         0.        ]\n",
      " [0.38988801 0.         0.         0.38988801 0.29651988 0.38988801\n",
      "  0.         0.         0.         0.38988801 0.38988801 0.38988801]]\n"
     ]
    }
   ],
   "source": [
    "from sklearn.feature_extraction.text import TfidfVectorizer\n",
    "# Dữ liệu văn bản mẫu\n",
    "documents = [\n",
    " 'I love machine learning',\n",
    " 'Deep learning is amazing',\n",
    " 'Natural language processing is a field of AI'\n",
    "]\n",
    "# Tạo TF-IDF Vectorizer\n",
    "vectorizer = TfidfVectorizer()\n",
    "X = vectorizer.fit_transform(documents)\n",
    "# Hiển thị từ vựng\n",
    "print(\"Vocabulary:\", vectorizer.vocabulary_)\n",
    "# Chuyển đổi văn bản thành ma trận TF-IDF\n",
    "print(\"TF-IDF Representation:\\n\", X.toarray())\n",
    "# Hiển thị các giá trị TF-IDF với từ vựng\n",
    "df = pd.DataFrame(X.toarray(),\n",
    "columns=vectorizer.get_feature_names_out())"
   ]
  }
 ],
 "metadata": {
  "kernelspec": {
   "display_name": "Python 3",
   "language": "python",
   "name": "python3"
  },
  "language_info": {
   "codemirror_mode": {
    "name": "ipython",
    "version": 3
   },
   "file_extension": ".py",
   "mimetype": "text/x-python",
   "name": "python",
   "nbconvert_exporter": "python",
   "pygments_lexer": "ipython3",
   "version": "3.11.0"
  }
 },
 "nbformat": 4,
 "nbformat_minor": 2
}
